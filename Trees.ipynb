{
 "cells": [
  {
   "cell_type": "markdown",
   "metadata": {},
   "source": [
    "# Trees\n",
    "\n",
    "### Table of Contents\n",
    "\n",
    "- [1. Define a node in a tree](#define_node)\n",
    "- [2. Create a binary tree](#create_bt)\n"
   ]
  },
  {
   "cell_type": "markdown",
   "metadata": {},
   "source": [
    "<a id='define_node'></a>\n",
    "### 1. Define the node in a tree\n",
    "\n",
    "<img src='./images/tree_01.png' alt='a simple tree structure'>"
   ]
  },
  {
   "cell_type": "code",
   "execution_count": 38,
   "metadata": {},
   "outputs": [],
   "source": [
    "class Node(object):\n",
    "    def __init__(self, value=None):\n",
    "        self.value = value\n",
    "        self.left = None\n",
    "        self.right = None\n",
    "        \n",
    "    def get_value(self):\n",
    "        return self.value\n",
    "    \n",
    "    def set_value(self, value):\n",
    "        self.value = value\n",
    "        \n",
    "    def set_left_child(self, node):\n",
    "        self.left = node\n",
    "        \n",
    "    def set_right_child(self, node):\n",
    "        self.right = node\n",
    "        \n",
    "    def get_left_child(self):\n",
    "        return self.left\n",
    "    \n",
    "    def get_right_child(self):\n",
    "        return self.right\n",
    "    \n",
    "    def has_left_child(self):\n",
    "        return self.left != None\n",
    "    \n",
    "    def has_right_child(self):\n",
    "        return self.right != None\n",
    "    \n",
    "    def __repr__(self):\n",
    "        return \"Node({})\".format(self.value)"
   ]
  },
  {
   "cell_type": "markdown",
   "metadata": {},
   "source": [
    "**Test 1: Initialize an empty node object**"
   ]
  },
  {
   "cell_type": "code",
   "execution_count": 17,
   "metadata": {},
   "outputs": [
    {
     "name": "stdout",
     "output_type": "stream",
     "text": [
      "\n",
      "value: None\n",
      "left: None\n",
      "right: None\n",
      "\n"
     ]
    }
   ],
   "source": [
    "node0 = Node()\n",
    "print(f\"\"\"\n",
    "value: {node0.value}\n",
    "left: {node0.left}\n",
    "right: {node0.right}\n",
    "\"\"\")"
   ]
  },
  {
   "cell_type": "markdown",
   "metadata": {},
   "source": [
    "**Test 2: Assign the value when initializing the node object**"
   ]
  },
  {
   "cell_type": "code",
   "execution_count": 18,
   "metadata": {},
   "outputs": [
    {
     "name": "stdout",
     "output_type": "stream",
     "text": [
      "\n",
      "value: apple\n",
      "left: None\n",
      "right: None\n",
      "\n"
     ]
    }
   ],
   "source": [
    "node0 = Node(\"apple\")\n",
    "print(f\"\"\"\n",
    "value: {node0.value}\n",
    "left: {node0.left}\n",
    "right: {node0.right}\n",
    "\"\"\")"
   ]
  },
  {
   "cell_type": "markdown",
   "metadata": {},
   "source": [
    "**Test 3: Set a new value to a node and test it**"
   ]
  },
  {
   "cell_type": "code",
   "execution_count": 19,
   "metadata": {},
   "outputs": [
    {
     "data": {
      "text/plain": [
       "'pear'"
      ]
     },
     "execution_count": 19,
     "metadata": {},
     "output_type": "execute_result"
    }
   ],
   "source": [
    "# Test: Set a value to a node\n",
    "node0.set_value('pear')\n",
    "\n",
    "# Test the set_value method\n",
    "node0.get_value()"
   ]
  },
  {
   "cell_type": "markdown",
   "metadata": {},
   "source": [
    "**Test 4: Set the left and right child to a node respectively**"
   ]
  },
  {
   "cell_type": "code",
   "execution_count": 39,
   "metadata": {},
   "outputs": [
    {
     "name": "stdout",
     "output_type": "stream",
     "text": [
      "\n",
      "node0: apple\n",
      "node0's left child: banana\n",
      "node0's right child: orange\n",
      "\n"
     ]
    }
   ],
   "source": [
    "node0 = Node(\"apple\")\n",
    "node1 = Node(\"banana\")\n",
    "node2 = Node(\"orange\")\n",
    "node0.set_left_child(node1)\n",
    "node0.set_right_child(node2)\n",
    "\n",
    "print(f\"\"\"\n",
    "node0: {node0.value}\n",
    "node0's left child: {node0.left.value}\n",
    "node0's right child: {node0.right.value}\n",
    "\"\"\")"
   ]
  },
  {
   "cell_type": "markdown",
   "metadata": {},
   "source": [
    "**Test 5: Check whether the left or right child exists or not**"
   ]
  },
  {
   "cell_type": "code",
   "execution_count": 29,
   "metadata": {},
   "outputs": [
    {
     "name": "stdout",
     "output_type": "stream",
     "text": [
      "\n",
      "node0 has left child? False\n",
      "node0 has right child? False\n",
      "\n",
      "***Adding the left and right child***\n",
      "\n",
      "node0 has left child? True\n",
      "node0 has right child? True\n",
      "\n"
     ]
    }
   ],
   "source": [
    "node0 = Node(\"apple\")\n",
    "node1 = Node(\"banana\")\n",
    "node2 = Node(\"orange\")\n",
    "\n",
    "\n",
    "print(\"\"\"\n",
    "node0 has left child? {}\n",
    "node0 has right child? {}\n",
    "\"\"\".format(node0.has_left_child(), node0.has_right_child()))\n",
    "\n",
    "print(\"***Adding the left and right child***\")\n",
    "node0.set_left_child(node1)\n",
    "node0.set_right_child(node2)\n",
    "\n",
    "print(\"\"\"\n",
    "node0 has left child? {}\n",
    "node0 has right child? {}\n",
    "\"\"\".format(node0.has_left_child(), node0.has_right_child()))\n"
   ]
  },
  {
   "cell_type": "markdown",
   "metadata": {},
   "source": [
    "<a id='create_bt'></a>\n",
    "### 2. Create a binary tree"
   ]
  },
  {
   "cell_type": "code",
   "execution_count": 30,
   "metadata": {},
   "outputs": [],
   "source": [
    "class Tree():\n",
    "    def __init__(self,value=None):\n",
    "        self.root = Node(value)\n",
    "        \n",
    "    def get_root(self):\n",
    "        return self.root"
   ]
  },
  {
   "cell_type": "markdown",
   "metadata": {},
   "source": [
    "**Test 1: Create a tree and add some children**\n",
    "\n",
    "<img src='./images/tree_01.png' alt='a simple tree structure'>"
   ]
  },
  {
   "cell_type": "code",
   "execution_count": 49,
   "metadata": {},
   "outputs": [
    {
     "name": "stdout",
     "output_type": "stream",
     "text": [
      "Node(dates)\n"
     ]
    }
   ],
   "source": [
    "tree = Tree(\"apple\")\n",
    "tree.get_root().set_left_child(Node(\"banana\"))\n",
    "tree.get_root().set_right_child(Node(\"cherry\"))\n",
    "tree.get_root().get_left_child().set_left_child(Node(\"dates\"))\n",
    "\n",
    "print(tree.get_root().get_left_child().get_left_child())"
   ]
  },
  {
   "cell_type": "markdown",
   "metadata": {},
   "source": [
    "### 3. Traverse a tree by pre-order (DFS) \n",
    "\n",
    "apple --> banana --> dates --> cherry"
   ]
  },
  {
   "cell_type": "code",
   "execution_count": null,
   "metadata": {},
   "outputs": [],
   "source": []
  }
 ],
 "metadata": {
  "kernelspec": {
   "display_name": "Python 3",
   "language": "python",
   "name": "python3"
  },
  "language_info": {
   "codemirror_mode": {
    "name": "ipython",
    "version": 3
   },
   "file_extension": ".py",
   "mimetype": "text/x-python",
   "name": "python",
   "nbconvert_exporter": "python",
   "pygments_lexer": "ipython3",
   "version": "3.7.9"
  }
 },
 "nbformat": 4,
 "nbformat_minor": 4
}
